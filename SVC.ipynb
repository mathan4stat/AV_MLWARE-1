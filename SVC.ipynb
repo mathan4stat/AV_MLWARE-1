{
 "cells": [
  {
   "cell_type": "code",
   "execution_count": 1,
   "metadata": {
    "collapsed": false
   },
   "outputs": [
    {
     "name": "stdout",
     "output_type": "stream",
     "text": [
      "curses is not supported on this machine (please install/reinstall curses for an optimal experience)\n"
     ]
    }
   ],
   "source": [
    "import pandas as pd\n",
    "import numpy as np\n",
    "from collections import Counter\n",
    "import tensorflow as tf\n",
    "import tflearn\n",
    "from tflearn.data_utils import to_categorical"
   ]
  },
  {
   "cell_type": "code",
   "execution_count": 2,
   "metadata": {
    "collapsed": true
   },
   "outputs": [],
   "source": [
    "from sklearn.utils import shuffle"
   ]
  },
  {
   "cell_type": "code",
   "execution_count": 3,
   "metadata": {
    "collapsed": true
   },
   "outputs": [],
   "source": [
    "trainX = pd.read_csv('train_MLWARE1.csv')\n",
    "test = pd.read_csv('test_MLWARE1.csv')"
   ]
  },
  {
   "cell_type": "code",
   "execution_count": 4,
   "metadata": {
    "collapsed": false,
    "scrolled": true
   },
   "outputs": [],
   "source": [
    "train = shuffle(trainX, random_state=25)"
   ]
  },
  {
   "cell_type": "code",
   "execution_count": 5,
   "metadata": {
    "collapsed": true
   },
   "outputs": [],
   "source": [
    "train = train.reset_index()"
   ]
  },
  {
   "cell_type": "code",
   "execution_count": 6,
   "metadata": {
    "collapsed": false
   },
   "outputs": [
    {
     "data": {
      "text/html": [
       "<div>\n",
       "<table border=\"1\" class=\"dataframe\">\n",
       "  <thead>\n",
       "    <tr style=\"text-align: right;\">\n",
       "      <th></th>\n",
       "      <th>index</th>\n",
       "      <th>ID</th>\n",
       "      <th>tweet</th>\n",
       "      <th>label</th>\n",
       "    </tr>\n",
       "  </thead>\n",
       "  <tbody>\n",
       "    <tr>\n",
       "      <th>0</th>\n",
       "      <td>21590</td>\n",
       "      <td>T000473948</td>\n",
       "      <td>@beasangel you're you're new to the internet a...</td>\n",
       "      <td>sarcastic</td>\n",
       "    </tr>\n",
       "    <tr>\n",
       "      <th>1</th>\n",
       "      <td>48598</td>\n",
       "      <td>T000500956</td>\n",
       "      <td>b'If congress wanted to make it simpler they w...</td>\n",
       "      <td>sarcastic</td>\n",
       "    </tr>\n",
       "    <tr>\n",
       "      <th>2</th>\n",
       "      <td>44788</td>\n",
       "      <td>T000497146</td>\n",
       "      <td>#sarcasm sorry thought you'd catch it\"</td>\n",
       "      <td>sarcastic</td>\n",
       "    </tr>\n",
       "    <tr>\n",
       "      <th>3</th>\n",
       "      <td>5541</td>\n",
       "      <td>T000457899</td>\n",
       "      <td>b'the changes made to the sat totally undermin...</td>\n",
       "      <td>sarcastic</td>\n",
       "    </tr>\n",
       "    <tr>\n",
       "      <th>4</th>\n",
       "      <td>58456</td>\n",
       "      <td>T000510814</td>\n",
       "      <td>b'just dance was just announced on i love the ...</td>\n",
       "      <td>non-sarcastic</td>\n",
       "    </tr>\n",
       "    <tr>\n",
       "      <th>5</th>\n",
       "      <td>18773</td>\n",
       "      <td>T000471131</td>\n",
       "      <td>really love it when niggas sweat them #not me'</td>\n",
       "      <td>sarcastic</td>\n",
       "    </tr>\n",
       "    <tr>\n",
       "      <th>6</th>\n",
       "      <td>61927</td>\n",
       "      <td>T000514285</td>\n",
       "      <td>drinks delicious steak salad best company love...</td>\n",
       "      <td>non-sarcastic</td>\n",
       "    </tr>\n",
       "    <tr>\n",
       "      <th>7</th>\n",
       "      <td>6713</td>\n",
       "      <td>T000459071</td>\n",
       "      <td>b'Los de en Sambueza de verdad Y con Boy mezcl...</td>\n",
       "      <td>sarcastic</td>\n",
       "    </tr>\n",
       "    <tr>\n",
       "      <th>8</th>\n",
       "      <td>52234</td>\n",
       "      <td>T000504592</td>\n",
       "      <td>b'rt turning left onto steeles '</td>\n",
       "      <td>non-sarcastic</td>\n",
       "    </tr>\n",
       "    <tr>\n",
       "      <th>9</th>\n",
       "      <td>8370</td>\n",
       "      <td>T000460728</td>\n",
       "      <td>b'Wow glad my alarm is going off in hours $$SA...</td>\n",
       "      <td>sarcastic</td>\n",
       "    </tr>\n",
       "  </tbody>\n",
       "</table>\n",
       "</div>"
      ],
      "text/plain": [
       "   index          ID                                              tweet  \\\n",
       "0  21590  T000473948  @beasangel you're you're new to the internet a...   \n",
       "1  48598  T000500956  b'If congress wanted to make it simpler they w...   \n",
       "2  44788  T000497146             #sarcasm sorry thought you'd catch it\"   \n",
       "3   5541  T000457899  b'the changes made to the sat totally undermin...   \n",
       "4  58456  T000510814  b'just dance was just announced on i love the ...   \n",
       "5  18773  T000471131     really love it when niggas sweat them #not me'   \n",
       "6  61927  T000514285  drinks delicious steak salad best company love...   \n",
       "7   6713  T000459071  b'Los de en Sambueza de verdad Y con Boy mezcl...   \n",
       "8  52234  T000504592                   b'rt turning left onto steeles '   \n",
       "9   8370  T000460728  b'Wow glad my alarm is going off in hours $$SA...   \n",
       "\n",
       "           label  \n",
       "0      sarcastic  \n",
       "1      sarcastic  \n",
       "2      sarcastic  \n",
       "3      sarcastic  \n",
       "4  non-sarcastic  \n",
       "5      sarcastic  \n",
       "6  non-sarcastic  \n",
       "7      sarcastic  \n",
       "8  non-sarcastic  \n",
       "9      sarcastic  "
      ]
     },
     "execution_count": 6,
     "metadata": {},
     "output_type": "execute_result"
    }
   ],
   "source": [
    "train.head(10)"
   ]
  },
  {
   "cell_type": "code",
   "execution_count": 7,
   "metadata": {
    "collapsed": false,
    "scrolled": true
   },
   "outputs": [
    {
     "data": {
      "text/html": [
       "<div>\n",
       "<table border=\"1\" class=\"dataframe\">\n",
       "  <thead>\n",
       "    <tr style=\"text-align: right;\">\n",
       "      <th></th>\n",
       "      <th>ID</th>\n",
       "      <th>tweet</th>\n",
       "    </tr>\n",
       "  </thead>\n",
       "  <tbody>\n",
       "    <tr>\n",
       "      <th>0</th>\n",
       "      <td>T000543656</td>\n",
       "      <td>and baby showers the new weddings lmao'</td>\n",
       "    </tr>\n",
       "    <tr>\n",
       "      <th>1</th>\n",
       "      <td>T000543657</td>\n",
       "      <td>in only white people can be racist if a white ...</td>\n",
       "    </tr>\n",
       "  </tbody>\n",
       "</table>\n",
       "</div>"
      ],
      "text/plain": [
       "           ID                                              tweet\n",
       "0  T000543656            and baby showers the new weddings lmao'\n",
       "1  T000543657  in only white people can be racist if a white ..."
      ]
     },
     "execution_count": 7,
     "metadata": {},
     "output_type": "execute_result"
    }
   ],
   "source": [
    "test.head(2)"
   ]
  },
  {
   "cell_type": "code",
   "execution_count": 8,
   "metadata": {
    "collapsed": false
   },
   "outputs": [
    {
     "data": {
      "text/plain": [
       "\"@beasangel you're you're new to the internet aren't you\""
      ]
     },
     "execution_count": 8,
     "metadata": {},
     "output_type": "execute_result"
    }
   ],
   "source": [
    "tweets = pd.DataFrame(train.tweet)\n",
    "tweets.tweet[0]"
   ]
  },
  {
   "cell_type": "code",
   "execution_count": 9,
   "metadata": {
    "collapsed": false
   },
   "outputs": [
    {
     "data": {
      "text/plain": [
       "91298"
      ]
     },
     "execution_count": 9,
     "metadata": {},
     "output_type": "execute_result"
    }
   ],
   "source": [
    "len(tweets)"
   ]
  },
  {
   "cell_type": "code",
   "execution_count": 10,
   "metadata": {
    "collapsed": false
   },
   "outputs": [
    {
     "data": {
      "text/plain": [
       "(91298, 4)"
      ]
     },
     "execution_count": 10,
     "metadata": {},
     "output_type": "execute_result"
    }
   ],
   "source": [
    "train.shape"
   ]
  },
  {
   "cell_type": "markdown",
   "metadata": {},
   "source": [
    "# COUNTING word frequency"
   ]
  },
  {
   "cell_type": "code",
   "execution_count": 11,
   "metadata": {
    "collapsed": false
   },
   "outputs": [
    {
     "name": "stdout",
     "output_type": "stream",
     "text": [
      "57562\n"
     ]
    }
   ],
   "source": [
    "total_counts = Counter()\n",
    "saracstic_counts = Counter()\n",
    "non_sarcastic_counts = Counter()\n",
    "\n",
    "for word in train.tweet.values:\n",
    "    total_counts.update(word.split(' '))\n",
    "    \n",
    "print(len(total_counts))"
   ]
  },
  {
   "cell_type": "code",
   "execution_count": 12,
   "metadata": {
    "collapsed": false
   },
   "outputs": [
    {
     "data": {
      "text/plain": [
       "[('to', 31931),\n",
       " ('the', 29937),\n",
       " ('a', 21607),\n",
       " ('and', 14796),\n",
       " ('for', 14677),\n",
       " ('you', 14186),\n",
       " ('my', 13507),\n",
       " ('of', 13479),\n",
       " ('is', 13208),\n",
       " ('in', 12667)]"
      ]
     },
     "execution_count": 12,
     "metadata": {},
     "output_type": "execute_result"
    }
   ],
   "source": [
    "total_counts.most_common(10)"
   ]
  },
  {
   "cell_type": "code",
   "execution_count": 13,
   "metadata": {
    "collapsed": false
   },
   "outputs": [
    {
     "name": "stdout",
     "output_type": "stream",
     "text": [
      "recall 10\n"
     ]
    }
   ],
   "source": [
    "vocab = sorted(total_counts, key= total_counts.get , reverse = True)[:8000]\n",
    "print(vocab[-1], total_counts[vocab[-1]])"
   ]
  },
  {
   "cell_type": "code",
   "execution_count": 14,
   "metadata": {
    "collapsed": true
   },
   "outputs": [],
   "source": [
    "word2idx = {word :i for i, word in enumerate(vocab)}"
   ]
  },
  {
   "cell_type": "code",
   "execution_count": 15,
   "metadata": {
    "collapsed": false
   },
   "outputs": [
    {
     "data": {
      "text/plain": [
       "{'pole': 6002,\n",
       " 'tuesday': 1200,\n",
       " 'display': 3703,\n",
       " \"b'happy\": 265,\n",
       " 'females': 5958,\n",
       " 'visit': 649,\n",
       " 'cloud': 5399,\n",
       " 'hill': 4298,\n",
       " 'shade': 7542,\n",
       " \"b'Dear\": 3312,\n",
       " 'quizzes': 7841,\n",
       " 'b\"Oh': 466,\n",
       " 'storage': 7636,\n",
       " 'parts': 3135,\n",
       " 'guarantee': 6643,\n",
       " \"b'found\": 4118,\n",
       " \"b'check\": 1188,\n",
       " 'Having': 4672,\n",
       " 'COOL': 5855,\n",
       " 'jk': 5775,\n",
       " 'chance': 837,\n",
       " 'lazy': 2807,\n",
       " 'Like': 1278,\n",
       " 'Bryan': 7842,\n",
       " 'down': 194,\n",
       " 'estaba': 7758,\n",
       " 'charming': 4828,\n",
       " 'period': 2224,\n",
       " 'italy': 3432,\n",
       " 'psychology': 5947,\n",
       " 'obama': 4373,\n",
       " \"b'no\": 1121,\n",
       " \"fun'\": 2795,\n",
       " 'kidding': 1453,\n",
       " 'WO': 6557,\n",
       " 'bachelor': 7041,\n",
       " 'euro': 3091,\n",
       " 'Ben': 3945,\n",
       " 'Awesome': 1834,\n",
       " 'aggressive': 5363,\n",
       " 'lift': 3251,\n",
       " 'legal': 2184,\n",
       " 'close': 674,\n",
       " 'Where': 2265,\n",
       " 'bridal': 6047,\n",
       " \"b'damn\": 6291,\n",
       " 'program': 2213,\n",
       " 'afraid': 2124,\n",
       " \"good'\": 2711,\n",
       " 'care': 345,\n",
       " 'pants': 1754,\n",
       " 'stepped': 7694,\n",
       " 'garden': 1594,\n",
       " 'concert': 881,\n",
       " 'b\"Ya': 5812,\n",
       " 'jerseys': 6142,\n",
       " 'perfect': 305,\n",
       " 'liar': 4405,\n",
       " 'E': 5774,\n",
       " 'Kim': 4797,\n",
       " \"b'Apparently\": 3469,\n",
       " 'till': 337,\n",
       " 'toy': 3313,\n",
       " 'overall': 4406,\n",
       " 'always': 131,\n",
       " 'gives': 1320,\n",
       " 'pickup': 6525,\n",
       " 'b\"He\\'s': 7126,\n",
       " 'mar': 57,\n",
       " 'soo': 1122,\n",
       " 'Even': 2681,\n",
       " 'last': 150,\n",
       " 'dick': 2198,\n",
       " 'crying': 1251,\n",
       " 'scientific': 2326,\n",
       " \"#affirmation'\": 1321,\n",
       " 'd': 417,\n",
       " 'includes': 5442,\n",
       " 'BEST': 4135,\n",
       " 'meeting': 681,\n",
       " 'seminar': 7097,\n",
       " \"b'Looking\": 2690,\n",
       " 'tears': 2531,\n",
       " 'files': 6048,\n",
       " 'beautiful': 238,\n",
       " 'charging': 6979,\n",
       " 'cruise': 3362,\n",
       " 'breeze': 5539,\n",
       " \"b'#sarcasm\": 2796,\n",
       " 'judge': 2656,\n",
       " 'diversity': 5566,\n",
       " 'het': 2058,\n",
       " 'blew': 4894,\n",
       " '|': 689,\n",
       " 'truck': 2351,\n",
       " '#yes': 5567,\n",
       " 'didnt': 1569,\n",
       " 'Do': 1716,\n",
       " 'guess': 404,\n",
       " '#family': 858,\n",
       " 'fresh': 1445,\n",
       " 'training': 875,\n",
       " \"b'Woke\": 3740,\n",
       " 'sur': 6229,\n",
       " 'ja': 2440,\n",
       " 'machine': 2649,\n",
       " 'duck': 4445,\n",
       " 'ni': 3252,\n",
       " 'sexual': 3665,\n",
       " 'cheesy': 7372,\n",
       " 'gets': 475,\n",
       " 'film': 1129,\n",
       " 'giant': 4225,\n",
       " \"b'selfie\": 6241,\n",
       " 'Ellen': 5326,\n",
       " \"smile'\": 4607,\n",
       " 'shape': 3052,\n",
       " 'hot': 582,\n",
       " 'etc': 2038,\n",
       " 'This': 383,\n",
       " 'lectures': 6925,\n",
       " \"b'Photo\": 3356,\n",
       " 'sex': 619,\n",
       " 'scientists': 3604,\n",
       " 'integrity': 4351,\n",
       " 'visited': 5908,\n",
       " 'admitted': 7046,\n",
       " 'Right': 2603,\n",
       " 'Virginia': 5155,\n",
       " 'complete': 966,\n",
       " 'front': 990,\n",
       " 'wouldnt': 7079,\n",
       " 'British': 3118,\n",
       " 'travel': 1237,\n",
       " 'consumer': 7259,\n",
       " 'Max': 7742,\n",
       " 'compliments': 2918,\n",
       " 'bull': 6003,\n",
       " 'season': 353,\n",
       " '#today': 3370,\n",
       " 'quarterback': 7695,\n",
       " 'curious': 6589,\n",
       " 'athlete': 7597,\n",
       " \"kids'\": 4030,\n",
       " 'visual': 7318,\n",
       " 'dealing': 3880,\n",
       " 'weer': 4247,\n",
       " 'b\"there': 5612,\n",
       " 'loads': 2404,\n",
       " 'ho': 6420,\n",
       " 'sin': 3845,\n",
       " 'turn': 702,\n",
       " 'potato': 5364,\n",
       " 'sakai': 7889,\n",
       " 'useful': 3415,\n",
       " \"httpst'\": 6427,\n",
       " 'b\"#birthday': 6926,\n",
       " '&amp': 81,\n",
       " 'response': 1870,\n",
       " \"b'Que\": 3653,\n",
       " 'hurts': 1910,\n",
       " 'van': 1454,\n",
       " 'ears': 3159,\n",
       " 'singing': 1316,\n",
       " \"b'pussy\": 5401,\n",
       " 'forced': 2808,\n",
       " 'closing': 3314,\n",
       " 'letter': 2515,\n",
       " 'Feel': 6560,\n",
       " 'nicer': 4352,\n",
       " 'surprised': 1206,\n",
       " 'nights': 905,\n",
       " \"b'because\": 2607,\n",
       " 'ended': 2039,\n",
       " 'dining': 6428,\n",
       " 'listening': 934,\n",
       " \"feeling'\": 7480,\n",
       " 'multiple': 3339,\n",
       " 'passing': 2491,\n",
       " 'cultural': 7395,\n",
       " 'believed': 5573,\n",
       " \"b'Try\": 7844,\n",
       " 'years': 270,\n",
       " 'yup': 4444,\n",
       " \"tickets'\": 7544,\n",
       " 'YOUR': 3846,\n",
       " 'b\"as': 6537,\n",
       " 'stall': 7665,\n",
       " 'hypothesis': 4136,\n",
       " 'scored': 2299,\n",
       " 'wondering': 2413,\n",
       " 'ABC': 7780,\n",
       " 'stock': 2065,\n",
       " 'total': 1396,\n",
       " '&lt3': 3638,\n",
       " 'super': 378,\n",
       " 'Watch': 5183,\n",
       " 'own': 361,\n",
       " 'superstar': 7800,\n",
       " 'episode': 926,\n",
       " 'REAL': 6299,\n",
       " 'stadium': 3259,\n",
       " 'admit': 3494,\n",
       " 'uses': 4169,\n",
       " 'Fellaini': 5156,\n",
       " 'kitty': 5538,\n",
       " 'preordered': 3817,\n",
       " 'drugs': 2330,\n",
       " '#grateful': 1064,\n",
       " '#day': 774,\n",
       " 'meetings': 3225,\n",
       " 'universal': 5532,\n",
       " 'wrapped': 6042,\n",
       " \"b'Cool\": 5065,\n",
       " 'dollar': 4138,\n",
       " \"#sorrynotsorry'\": 7217,\n",
       " \"b'congratulations\": 3034,\n",
       " 'usual': 1868,\n",
       " 'sees': 6194,\n",
       " 'saturday': 523,\n",
       " 'z': 3833,\n",
       " 'acceptance': 5222,\n",
       " '#baby': 3478,\n",
       " 'instagram': 1668,\n",
       " 'further': 3551,\n",
       " 'related': 3785,\n",
       " 'dad\"': 3160,\n",
       " 'ALL': 1742,\n",
       " 'concept': 3372,\n",
       " 'packing': 2206,\n",
       " 'luv': 2497,\n",
       " 'closed': 3725,\n",
       " 'only': 110,\n",
       " 'church': 1784,\n",
       " \"b'Day\": 7568,\n",
       " 'ad': 4382,\n",
       " 'embrace': 4967,\n",
       " 'we': 38,\n",
       " \"b'thanks\": 633,\n",
       " 'burnt': 5728,\n",
       " 'argue': 3842,\n",
       " 'superior': 6429,\n",
       " \"b'need\": 4701,\n",
       " 'estar': 7957,\n",
       " 'swollen': 3741,\n",
       " 'do': 50,\n",
       " 'themselves': 1504,\n",
       " 'knocked': 4608,\n",
       " 'once': 597,\n",
       " 'cox': 6992,\n",
       " \"b'ok\": 3460,\n",
       " 'exist': 1671,\n",
       " 'threw': 3621,\n",
       " 'chips': 4497,\n",
       " 'crashing': 7520,\n",
       " 'classmates': 7640,\n",
       " 'cheese': 3107,\n",
       " 'goodies': 5813,\n",
       " '#mom': 5365,\n",
       " \"#wedding'\": 5673,\n",
       " 'install': 5402,\n",
       " 'winner': 1219,\n",
       " 'citizens': 3416,\n",
       " 'Winter': 7114,\n",
       " \"there's\": 519,\n",
       " 'ferry': 6757,\n",
       " 'b\"What\\'s': 4861,\n",
       " '#festival': 5816,\n",
       " 'youre': 2368,\n",
       " 'Should': 2457,\n",
       " 'effects': 3337,\n",
       " 'brighten': 4211,\n",
       " '#familytime': 7846,\n",
       " 'dot': 6590,\n",
       " \"again'\": 2450,\n",
       " \"it'll\": 1779,\n",
       " 'sleepless': 5789,\n",
       " 'sales': 2361,\n",
       " 'amazon': 3520,\n",
       " 'doin': 6644,\n",
       " 'link': 1336,\n",
       " 'roles': 5776,\n",
       " 'connection': 4254,\n",
       " '#paris': 4120,\n",
       " 'talked': 1984,\n",
       " 'backyard': 4962,\n",
       " \"b'Hahaha\": 6617,\n",
       " 'supervisor': 7569,\n",
       " \"what's\": 580,\n",
       " \"#selfie'\": 5252,\n",
       " 'saying': 572,\n",
       " 'coolest': 3742,\n",
       " 'outfit': 2712,\n",
       " 'Got': 2882,\n",
       " 'projects': 3315,\n",
       " 'EVERY': 7740,\n",
       " 'Jack': 6520,\n",
       " 'return': 1412,\n",
       " '\"I\\\\\\'m': 7593,\n",
       " 'thrown': 3655,\n",
       " 'anyway': 1335,\n",
       " 'bathroom': 1902,\n",
       " 'iron': 4560,\n",
       " \"'the\": 6467,\n",
       " \"#nervous'\": 1750,\n",
       " 'months\"': 7134,\n",
       " 'friends': 197,\n",
       " 'b\"feeling': 6050,\n",
       " 'trails': 6715,\n",
       " 'forever': 1040,\n",
       " 'REALLY': 2470,\n",
       " 'scottish': 7272,\n",
       " 'directly': 7251,\n",
       " 'following': 893,\n",
       " '#me': 2232,\n",
       " 'French': 3881,\n",
       " '@abbiemann1982': 7697,\n",
       " 'neighbors': 2568,\n",
       " 'mom': 364,\n",
       " \"b'These\": 2972,\n",
       " 'genuinely': 5048,\n",
       " 'unfair': 6904,\n",
       " \"b'#not\": 2797,\n",
       " 'hired': 6595,\n",
       " 'Going': 2977,\n",
       " \"b'Too\": 3991,\n",
       " 'j': 3384,\n",
       " 'stealing': 5527,\n",
       " 'thesis': 6993,\n",
       " 'whore': 5568,\n",
       " 'decide': 1193,\n",
       " 'trend': 5560,\n",
       " '#sarcasticwed': 1355,\n",
       " 'busted': 7045,\n",
       " 'spread': 3202,\n",
       " 'fr': 2287,\n",
       " '#Not': 302,\n",
       " 'rewarding': 6994,\n",
       " 'enemy': 6892,\n",
       " \"b'Omg\": 2331,\n",
       " 'inside': 1091,\n",
       " 'Peyton': 6603,\n",
       " \"#smiles'\": 6430,\n",
       " '#haha': 7847,\n",
       " 'props': 6484,\n",
       " 'DC': 3992,\n",
       " \"b'excited\": 2084,\n",
       " 'Phil': 5392,\n",
       " 'department': 4638,\n",
       " 'direct': 3743,\n",
       " 'Boo': 7482,\n",
       " 'stuffy': 7623,\n",
       " 'FUCKING': 4076,\n",
       " 'lads': 4226,\n",
       " '#stay': 7698,\n",
       " 'objective': 6485,\n",
       " 'cheer': 2335,\n",
       " 'auditions': 6171,\n",
       " 'RIGHT': 7260,\n",
       " 'dear': 1118,\n",
       " 'bone': 5031,\n",
       " 'bass': 6051,\n",
       " 'headed': 2059,\n",
       " 'placed': 3161,\n",
       " 'claire': 6812,\n",
       " 'jumping': 4666,\n",
       " 'parking': 1460,\n",
       " 'papa': 2028,\n",
       " 'bus': 720,\n",
       " 'gift': 754,\n",
       " 'b\"who\\'s': 3348,\n",
       " 'possibility': 6383,\n",
       " 'fairly': 6538,\n",
       " 'layers': 6813,\n",
       " 'riding': 4077,\n",
       " \"in'\": 3371,\n",
       " 'b\"it': 3587,\n",
       " 'in\"': 4766,\n",
       " 'liberal': 7050,\n",
       " 'cast': 1762,\n",
       " 'device': 7681,\n",
       " 'ways': 1238,\n",
       " 'reduce': 5366,\n",
       " \"son's\": 6300,\n",
       " 'Road': 7438,\n",
       " 'outside': 590,\n",
       " 'treat': 931,\n",
       " 'user': 7760,\n",
       " 'less': 539,\n",
       " 'hundred': 4013,\n",
       " 'haha\"': 5858,\n",
       " 'Fucking': 7546,\n",
       " '#actorslife': 7048,\n",
       " \"city'\": 7328,\n",
       " \"https'\": 3433,\n",
       " 'cutie': 7117,\n",
       " 'slap': 6343,\n",
       " 'said': 293,\n",
       " 'rider': 6991,\n",
       " \"out'\": 2408,\n",
       " 'ill': 2019,\n",
       " 'Piers': 7711,\n",
       " 'wait\"': 2256,\n",
       " 'productive': 930,\n",
       " \"b'live\": 3328,\n",
       " '\"I': 2734,\n",
       " \"#positivity'\": 4139,\n",
       " 'subway': 7253,\n",
       " 'speaker': 5007,\n",
       " 'laughs': 379,\n",
       " '#fathersday\"': 2901,\n",
       " 'boys': 795,\n",
       " 'Little': 4937,\n",
       " 'powers': 5909,\n",
       " 'center': 2667,\n",
       " \"b'Anyone\": 3847,\n",
       " 'also': 411,\n",
       " 'Show': 5327,\n",
       " 'welcoming': 4702,\n",
       " 'OH': 3927,\n",
       " 'zijn': 4895,\n",
       " 'grandma': 5033,\n",
       " 'grounded': 6828,\n",
       " \"#art'\": 4353,\n",
       " '#women': 7624,\n",
       " 'allah': 3479,\n",
       " 'Cyrus': 4584,\n",
       " 'supporters': 5675,\n",
       " 'Thank': 872,\n",
       " 'reason': 543,\n",
       " 'priceless': 4354,\n",
       " 'Arsenal': 6431,\n",
       " \"I'd\": 792,\n",
       " \"b'nude\": 7483,\n",
       " 'clean': 1144,\n",
       " 'rights': 1437,\n",
       " 'launch': 1217,\n",
       " 'upcoming': 1701,\n",
       " 'Bad': 5910,\n",
       " \"ali'\": 5950,\n",
       " 'asking': 1307,\n",
       " 'awaits': 7447,\n",
       " 'rough': 2956,\n",
       " 'princess': 2379,\n",
       " 'Kansas': 4868,\n",
       " 'whatsapp': 6995,\n",
       " 'allowed': 1476,\n",
       " 'meets': 6226,\n",
       " 'b\"On': 4299,\n",
       " 'honey': 3018,\n",
       " 'doc': 4888,\n",
       " 'naked': 1358,\n",
       " 'Bitch': 5289,\n",
       " 'returns': 2050,\n",
       " 'skype': 7907,\n",
       " \"b'Taking\": 6645,\n",
       " 'subject': 2809,\n",
       " 'ukraine': 7320,\n",
       " 'dies': 6729,\n",
       " 'lie': 1488,\n",
       " 'punk': 6145,\n",
       " 'planet': 2588,\n",
       " 'successfully': 6487,\n",
       " 'b\"the': 867,\n",
       " 'cell': 3575,\n",
       " 'booth': 7374,\n",
       " 'angeles': 6344,\n",
       " '(at': 4119,\n",
       " 'hopefully': 1677,\n",
       " 'Leo': 5215,\n",
       " 'grace': 3912,\n",
       " 'insta': 3928,\n",
       " 'independent': 3973,\n",
       " 'heads': 3175,\n",
       " 'nancy': 7642,\n",
       " 'are': 27,\n",
       " 'refer': 6146,\n",
       " 'GOP': 7368,\n",
       " 'poetry': 6301,\n",
       " 'Cricketer': 6101,\n",
       " 'yelling': 3620,\n",
       " 'journey': 1486,\n",
       " 'v': 1315,\n",
       " \"b'School\": 3744,\n",
       " 'Smart': 7175,\n",
       " 'vip': 6683,\n",
       " 'egg': 5856,\n",
       " 'director': 3786,\n",
       " 'salt': 6173,\n",
       " 'apparently': 1381,\n",
       " 'nite': 4414,\n",
       " 'sam': 5328,\n",
       " 'leadership': 4466,\n",
       " \"b'rt\": 24,\n",
       " \"b'High\": 7536,\n",
       " '#inlove': 4972,\n",
       " 'advert': 4860,\n",
       " 'Japan': 5860,\n",
       " \"doesn\\\\'t\": 2266,\n",
       " 'efficient': 4997,\n",
       " \"b'think\": 4122,\n",
       " 'rt': 2492,\n",
       " 'las': 1580,\n",
       " 'ID': 7759,\n",
       " 'england': 1413,\n",
       " 'package': 2597,\n",
       " 'talking': 451,\n",
       " '#periscope': 3960,\n",
       " 'names': 2517,\n",
       " 'maar': 7118,\n",
       " 'trending': 2125,\n",
       " 'another': 205,\n",
       " \"It\\\\'s\": 3044,\n",
       " 'sheets': 6148,\n",
       " 'dudes': 6149,\n",
       " 'teens': 5387,\n",
       " 'Maybe': 1556,\n",
       " 'civil': 4227,\n",
       " 'un': 1119,\n",
       " 'scared': 1997,\n",
       " \"done'\": 4799,\n",
       " 'ook': 3149,\n",
       " 'pumped': 1572,\n",
       " 'IT': 2022,\n",
       " 'sarcasm\"': 2782,\n",
       " \"won\\\\'t\": 6150,\n",
       " 'wears': 6935,\n",
       " 'hated': 6164,\n",
       " 'express': 3290,\n",
       " 'before': 172,\n",
       " \"b'woohoo\": 5253,\n",
       " '#football': 6053,\n",
       " 'wil': 5628,\n",
       " 'tourism': 6482,\n",
       " 'tools': 5403,\n",
       " 'begun': 3961,\n",
       " 'delightful': 2728,\n",
       " '#bestfriend': 4639,\n",
       " 'al': 1198,\n",
       " 'started': 495,\n",
       " 'describe': 2682,\n",
       " 'T': 5877,\n",
       " '#happyfathersday': 6385,\n",
       " \"b'wish\": 3310,\n",
       " 'homeless': 6368,\n",
       " 'demand': 3495,\n",
       " 'incident': 5777,\n",
       " 'spotted': 6948,\n",
       " 'shop': 1079,\n",
       " 'teaching': 1957,\n",
       " 'may': 319,\n",
       " 'fault': 1411,\n",
       " 'central': 3240,\n",
       " 'several': 3226,\n",
       " 'eventually': 6592,\n",
       " 'prove': 3212,\n",
       " 'sue': 7792,\n",
       " 'proof': 2695,\n",
       " 'call': 342,\n",
       " 'game': 175,\n",
       " 'policy': 5804,\n",
       " 'incredible': 2003,\n",
       " 'leave': 548,\n",
       " 'war': 1520,\n",
       " 'Woo': 4273,\n",
       " 'Go': 2458,\n",
       " 'fired': 3784,\n",
       " \"b'spend\": 7908,\n",
       " 'sunday\"': 7485,\n",
       " 'wait': 73,\n",
       " '#cantwait\"': 3163,\n",
       " \"love'\": 6166,\n",
       " \"b'&\": 6646,\n",
       " 'represent': 6167,\n",
       " 'rest': 697,\n",
       " \"we've\": 1338,\n",
       " 'ray': 7143,\n",
       " 'concerts': 3685,\n",
       " 'draw': 2788,\n",
       " 'Monday': 745,\n",
       " 'American': 1581,\n",
       " 'yesterday': 630,\n",
       " 'beat': 856,\n",
       " 'quick': 1469,\n",
       " 'vegetarian': 7940,\n",
       " 'patience': 6390,\n",
       " 'example': 2532,\n",
       " \"b'Finally\": 3085,\n",
       " 'Internet': 3304,\n",
       " \"b'Because\": 1698,\n",
       " 'fucking': 376,\n",
       " 'Jets': 5601,\n",
       " \"b'off\": 1180,\n",
       " \"#ha'\": 7579,\n",
       " 'table': 1804,\n",
       " 'naturally': 3470,\n",
       " 'mentor': 7787,\n",
       " 'brown': 4130,\n",
       " 'cared': 5912,\n",
       " 'keeping': 1401,\n",
       " 'haha': 497,\n",
       " \"b'Perfect\": 2732,\n",
       " 'purpose': 1712,\n",
       " 'seniors': 4667,\n",
       " 'eve': 3471,\n",
       " 'crisis': 6989,\n",
       " \"b'too\": 7486,\n",
       " 'proving': 6243,\n",
       " 'interviews': 3836,\n",
       " 'directed': 4801,\n",
       " 'TOO': 5676,\n",
       " 'positive': 757,\n",
       " 'help': 336,\n",
       " 'leading': 2627,\n",
       " 'firearm': 7051,\n",
       " 'budget': 5126,\n",
       " 'alongside': 7329,\n",
       " 'cooked': 7971,\n",
       " \"don\\\\'t\": 838,\n",
       " '#mondaymotivation': 5377,\n",
       " 'sachin': 4743,\n",
       " \"He's\": 1710,\n",
       " 'Leafs': 7540,\n",
       " 'pkt': 107,\n",
       " 'anthems': 4029,\n",
       " 'believing': 6004,\n",
       " 'Kane': 7388,\n",
       " 'suffer': 4355,\n",
       " 'offense': 3357,\n",
       " 'stay': 410,\n",
       " 'alley': 7625,\n",
       " 'violence': 3848,\n",
       " \"b'look\": 1869,\n",
       " 'referring': 7977,\n",
       " 'else': 432,\n",
       " 'handsome': 3946,\n",
       " 'killed': 1946,\n",
       " 'sooo': 1409,\n",
       " 'team': 252,\n",
       " 'supported': 4408,\n",
       " 'N': 4975,\n",
       " \"birthday'\": 2107,\n",
       " '#hair': 7938,\n",
       " 'glory': 6830,\n",
       " '#cool': 6647,\n",
       " 'evolutionary': 5890,\n",
       " 'theatre': 2302,\n",
       " \"b'Was\": 4896,\n",
       " 'amongst': 6151,\n",
       " \"b'tickets\": 4545,\n",
       " 'stop': 348,\n",
       " 'weapons': 3760,\n",
       " 'b\"that': 3804,\n",
       " 'ingredients': 7401,\n",
       " 'minister': 7626,\n",
       " 'drag': 6701,\n",
       " 'building': 1498,\n",
       " \"#thankful'\": 2257,\n",
       " 'peeling': 7766,\n",
       " 'b\"Today\\'s': 4009,\n",
       " 'wages': 6594,\n",
       " 'patrick': 5861,\n",
       " 'annoyed': 2303,\n",
       " 'ducks': 5506,\n",
       " 'academy': 5708,\n",
       " \"b'haha\": 4111,\n",
       " 'vocal': 6244,\n",
       " 'taxi': 5127,\n",
       " 'proposal': 6817,\n",
       " '#disney': 6126,\n",
       " 'b\"I\\'ve': 1353,\n",
       " 'scores': 5305,\n",
       " 'safety': 3316,\n",
       " 'likes': 1283,\n",
       " 'vision': 6751,\n",
       " 'grad': 3512,\n",
       " 'US': 1020,\n",
       " 'leaving': 991,\n",
       " 'topics': 6997,\n",
       " 'spot': 1807,\n",
       " 'kept': 2463,\n",
       " 'Another': 3032,\n",
       " 'south': 1616,\n",
       " \"#oitnb'\": 4998,\n",
       " 'adds': 5712,\n",
       " \"b'wow\": 807,\n",
       " 'deck': 7119,\n",
       " 'exchange': 5602,\n",
       " \"b'woke\": 3883,\n",
       " 'flesh': 4999,\n",
       " \"b'Lets\": 5444,\n",
       " 'upload': 5034,\n",
       " 'you': 5,\n",
       " 'WOW': 4703,\n",
       " 'knowledge': 2740,\n",
       " \"b'New\": 3267,\n",
       " 'villa': 7699,\n",
       " 'accident': 3616,\n",
       " 'desperate': 5615,\n",
       " 'convenient': 4622,\n",
       " 'Damn': 3260,\n",
       " 'July': 7322,\n",
       " 'entry': 5042,\n",
       " \"b'Working\": 2940,\n",
       " '#travel': 1810,\n",
       " 'trash': 4010,\n",
       " '#tbt': 4704,\n",
       " \"he'll\": 3552,\n",
       " 'onto': 2747,\n",
       " 'safe': 952,\n",
       " 'fixing': 5329,\n",
       " 'claim': 1629,\n",
       " \"#seriously'\": 272,\n",
       " 'bear': 2211,\n",
       " 'aan': 5171,\n",
       " 'show': 212,\n",
       " 'manager': 2767,\n",
       " '#waiting': 7425,\n",
       " \"b'that\": 1005,\n",
       " 'b\"A': 3033,\n",
       " \"b'WOW\": 4767,\n",
       " \"It's\": 323,\n",
       " 'pep': 7487,\n",
       " 'accused': 7404,\n",
       " 'apt': 7495,\n",
       " 'line': 747,\n",
       " 'deer': 6702,\n",
       " 'tv': 738,\n",
       " 'Shit': 7477,\n",
       " 'intro': 7996,\n",
       " 'Thanks': 400,\n",
       " 'liars': 4097,\n",
       " 'forget': 783,\n",
       " 'anal': 7786,\n",
       " 'session': 1306,\n",
       " '#weekend': 808,\n",
       " 'Guy': 7700,\n",
       " 'selfish': 4964,\n",
       " 'gracious': 6927,\n",
       " 'worse': 1763,\n",
       " 'puke': 7165,\n",
       " 'Hooray': 7311,\n",
       " \"o'clock\": 3330,\n",
       " 'See': 4098,\n",
       " 'AC': 5589,\n",
       " 'freezing': 2428,\n",
       " 'fitted': 7556,\n",
       " 'theater': 5405,\n",
       " 'They': 624,\n",
       " 'event': 662,\n",
       " 'scenes': 6818,\n",
       " \"#health'\": 5186,\n",
       " 'decent': 3521,\n",
       " 'hallway': 5367,\n",
       " 'showing': 1032,\n",
       " 'picked': 1390,\n",
       " 'hangover': 6114,\n",
       " 'deserves': 3019,\n",
       " 'mentally': 6827,\n",
       " 'hottest': 6251,\n",
       " 'stayed': 2963,\n",
       " 'technology': 3082,\n",
       " 'bastard': 7052,\n",
       " 'memory': 4585,\n",
       " \"saturday'\": 4099,\n",
       " 'needed': 615,\n",
       " 'bf': 3418,\n",
       " 'fixtures': 5067,\n",
       " \"women's\": 3448,\n",
       " 'raising': 3772,\n",
       " 'most': 232,\n",
       " 'money': 437,\n",
       " 'championship': 2166,\n",
       " 'stuff': 509,\n",
       " 'people': 61,\n",
       " 'open': 491,\n",
       " 'neighborhood': 6275,\n",
       " \"b'Definitely\": 4058,\n",
       " 'person': 263,\n",
       " 'yell': 4862,\n",
       " 'Sorry': 2883,\n",
       " 'sarcastictweet': 4228,\n",
       " 'rush': 2727,\n",
       " 'county': 3419,\n",
       " '#free': 2683,\n",
       " 'odds': 6873,\n",
       " 'leaf': 7488,\n",
       " 'famous': 1851,\n",
       " 'bang': 3053,\n",
       " 'senior': 1650,\n",
       " \"show'\": 5865,\n",
       " 'dreams': 1291,\n",
       " 'gaining': 7489,\n",
       " 'bum': 6928,\n",
       " 'Girl': 6832,\n",
       " 'steve': 4783,\n",
       " 'Obama': 1431,\n",
       " 'sprint': 5885,\n",
       " \"#day'\": 2146,\n",
       " \"b'SO\": 1895,\n",
       " '#lovemyjob': 7154,\n",
       " 'Yup': 5218,\n",
       " '#celebrate': 3686,\n",
       " 'evidence': 1280,\n",
       " 'trying': 415,\n",
       " 'newspaper': 6152,\n",
       " 'pissing': 7763,\n",
       " 'chest': 3717,\n",
       " 'hiking': 5486,\n",
       " 'applied': 5094,\n",
       " '#run': 4184,\n",
       " 'Thomas': 5571,\n",
       " 'venue': 3639,\n",
       " 'midterms': 6675,\n",
       " 'relief': 4229,\n",
       " 'b\"Well': 559,\n",
       " \"b'So\": 208,\n",
       " 'happy\"': 2582,\n",
       " 'blasting': 7898,\n",
       " 'tu': 2612,\n",
       " 'herself': 5199,\n",
       " \"b'Things\": 7591,\n",
       " 'determine': 7190,\n",
       " 'aunt': 5545,\n",
       " 'gig': 2246,\n",
       " 'pointing': 4924,\n",
       " 'tiring': 6820,\n",
       " 'cramp': 7490,\n",
       " 'classroom': 5219,\n",
       " 'german': 5445,\n",
       " 'THIS': 1961,\n",
       " \"b'watch\": 4720,\n",
       " '#holiday': 1450,\n",
       " 'socalled': 7696,\n",
       " 'Saturday': 810,\n",
       " \"b'some\": 2060,\n",
       " 'right\"': 5068,\n",
       " 'mis': 4125,\n",
       " 'failed': 2876,\n",
       " 'insulting': 6440,\n",
       " 'unreal': 4127,\n",
       " 'b\"Yea': 5542,\n",
       " 'pieces': 3687,\n",
       " 'begging': 7121,\n",
       " \"year'\": 2332,\n",
       " \"b'fantastic\": 6540,\n",
       " \"#vacation'\": 6005,\n",
       " '#glastofest': 5785,\n",
       " '#tattoo': 6530,\n",
       " '(which': 7628,\n",
       " 'confusing': 7721,\n",
       " 'performances': 6314,\n",
       " 'timeline': 3435,\n",
       " '#wednesday': 4059,\n",
       " '#youtube': 4683,\n",
       " 'sexy': 1018,\n",
       " 'dalai': 4897,\n",
       " 'celebrity': 5603,\n",
       " \"b'Seeing\": 4802,\n",
       " 'feet': 1653,\n",
       " 'across': 1582,\n",
       " 'because': 117,\n",
       " 'row': 1253,\n",
       " \"boy'\": 7403,\n",
       " 'av': 5757,\n",
       " \"b'Please\": 2851,\n",
       " 'doesnt': 2157,\n",
       " \"b'Hello\": 6345,\n",
       " 'anniversary': 1194,\n",
       " 'yall': 2954,\n",
       " 'helps': 2233,\n",
       " 'shipping': 5487,\n",
       " 'relations': 6929,\n",
       " 'sacrifice': 7335,\n",
       " 'worth': 790,\n",
       " 'smiling': 1433,\n",
       " 'b\"come': 7449,\n",
       " 'ca': 7526,\n",
       " 'striker': 6705,\n",
       " 'one': 60,\n",
       " '#not\"': 123,\n",
       " 'Things': 7085,\n",
       " '#blackheathstandard': 3947,\n",
       " 'Must': 3385,\n",
       " 'promises': 7782,\n",
       " 'making': 241,\n",
       " 'royal': 2929,\n",
       " 'whatever': 1061,\n",
       " 'reflection': 6153,\n",
       " 'fat': 1570,\n",
       " 'bits': 5574,\n",
       " 'Sam': 5054,\n",
       " 'politics': 2974,\n",
       " 'adore': 5069,\n",
       " \"#dance'\": 6895,\n",
       " 'comparing': 4898,\n",
       " 'hike': 7701,\n",
       " 'organized': 4468,\n",
       " 'OR': 4178,\n",
       " 'grand': 1789,\n",
       " 'goed': 5641,\n",
       " 'joys': 2713,\n",
       " 'pp': 5891,\n",
       " 'while': 281,\n",
       " 'happen': 594,\n",
       " 'patient': 5948,\n",
       " 'kindness': 4023,\n",
       " 'exists': 4899,\n",
       " 'members': 2234,\n",
       " 'loves': 731,\n",
       " 'passes': 4586,\n",
       " 'maya': 5955,\n",
       " \"you're\": 136,\n",
       " 'SUPER': 6246,\n",
       " 'te': 1496,\n",
       " 'sorrynotsorry': 5646,\n",
       " 'prank': 7192,\n",
       " \"b'amazing\": 4300,\n",
       " 'jajaja': 7551,\n",
       " 'profit': 7193,\n",
       " 'quite': 853,\n",
       " 'earn': 4288,\n",
       " 'teammates': 7523,\n",
       " 'moving': 1048,\n",
       " 'b\"thank': 2824,\n",
       " 'male': 2061,\n",
       " 'finale': 3553,\n",
       " 'deciding': 5254,\n",
       " 'large': 2317,\n",
       " 'guys': 186,\n",
       " 'bloom': 6432,\n",
       " 'flash': 7552,\n",
       " 'caption': 6875,\n",
       " 'shooter': 4900,\n",
       " 'read': 484,\n",
       " '#single': 5678,\n",
       " 'textbook': 7627,\n",
       " \"b'Excited\": 7323,\n",
       " 'water': 751,\n",
       " \"people'\": 3572,\n",
       " 'company': 1189,\n",
       " 'cute': 472,\n",
       " 'subscribers': 6464,\n",
       " \"he\\\\'s\": 5187,\n",
       " 'feelin': 6811,\n",
       " 'unemployed': 7553,\n",
       " 'learned': 1630,\n",
       " 'master': 3083,\n",
       " 'had': 133,\n",
       " 'favor': 4195,\n",
       " \"b'being\": 1589,\n",
       " 'grave': 7666,\n",
       " 'mad': 1156,\n",
       " \"b'#love\": 5255,\n",
       " \"hours'\": 5679,\n",
       " 'sent': 1174,\n",
       " 'peanut': 7629,\n",
       " 'forbid': 7717,\n",
       " 'pjs': 1906,\n",
       " 'earned': 4940,\n",
       " 'excellent': 1690,\n",
       " 'rely': 6247,\n",
       " 'both': 492,\n",
       " \"friend'\": 7853,\n",
       " '#nbafinals': 6703,\n",
       " 'effort': 1191,\n",
       " 'shines': 7849,\n",
       " 'LOVE': 728,\n",
       " 'det': 6704,\n",
       " 'tax': 2380,\n",
       " 'Fridays': 7788,\n",
       " 'copies': 5956,\n",
       " 'happening': 983,\n",
       " 'b\"be': 2140,\n",
       " 'b\"When': 1263,\n",
       " 'Year': 7122,\n",
       " 'random': 1204,\n",
       " \"#people'\": 7638,\n",
       " 'rides': 4384,\n",
       " \"want'\": 6898,\n",
       " 'adorable': 3189,\n",
       " 'doo': 7941,\n",
       " \"b'spent\": 7589,\n",
       " \"b'Not\": 1482,\n",
       " \"What's\": 4746,\n",
       " 'smoothie': 7460,\n",
       " '#netflix': 7028,\n",
       " 'b\"if': 1512,\n",
       " 'Know': 5290,\n",
       " 'square': 3948,\n",
       " 'West': 2598,\n",
       " 'after': 155,\n",
       " \"h'\": 2941,\n",
       " 'legally': 5896,\n",
       " '#strong': 7324,\n",
       " 'possible': 1101,\n",
       " 'prom': 1928,\n",
       " 'loved': 606,\n",
       " \"b'making\": 4259,\n",
       " 'EVERYONE': 6648,\n",
       " ...}"
      ]
     },
     "execution_count": 15,
     "metadata": {},
     "output_type": "execute_result"
    }
   ],
   "source": [
    "word2idx"
   ]
  },
  {
   "cell_type": "code",
   "execution_count": 16,
   "metadata": {
    "collapsed": false
   },
   "outputs": [
    {
     "name": "stdout",
     "output_type": "stream",
     "text": [
      "8000\n"
     ]
    }
   ],
   "source": [
    "print(len(vocab))"
   ]
  },
  {
   "cell_type": "code",
   "execution_count": 17,
   "metadata": {
    "collapsed": true
   },
   "outputs": [],
   "source": [
    "def text_to_vector(text):\n",
    "    word2vec = np.zeros(len(vocab) , dtype = np.int_)\n",
    "    \n",
    "    for word in text.split(' '):\n",
    "        idx = word2idx.get(word , None)\n",
    "        if idx is None:\n",
    "            continue\n",
    "        else:\n",
    "            word2vec[idx] = 1\n",
    "            \n",
    "    return np.array(word2vec)"
   ]
  },
  {
   "cell_type": "code",
   "execution_count": 18,
   "metadata": {
    "collapsed": false
   },
   "outputs": [
    {
     "data": {
      "text/plain": [
       "array([1, 1, 1, ..., 0, 0, 0])"
      ]
     },
     "execution_count": 18,
     "metadata": {},
     "output_type": "execute_result"
    }
   ],
   "source": [
    "text_to_vector('the motion to the sales are in  a motion')"
   ]
  },
  {
   "cell_type": "code",
   "execution_count": 19,
   "metadata": {
    "collapsed": false,
    "scrolled": true
   },
   "outputs": [],
   "source": [
    "word_vectors = np.zeros( (len(tweets),len(vocab)), dtype = np.int_)"
   ]
  },
  {
   "cell_type": "code",
   "execution_count": 20,
   "metadata": {
    "collapsed": false,
    "scrolled": true
   },
   "outputs": [
    {
     "data": {
      "text/plain": [
       "(91298, 8000)"
      ]
     },
     "execution_count": 20,
     "metadata": {},
     "output_type": "execute_result"
    }
   ],
   "source": [
    "word_vectors.shape"
   ]
  },
  {
   "cell_type": "code",
   "execution_count": 21,
   "metadata": {
    "collapsed": true
   },
   "outputs": [],
   "source": [
    "for i, (_, word) in enumerate(tweets.iterrows()):\n",
    "    word_vectors[i] = text_to_vector(word[0])"
   ]
  },
  {
   "cell_type": "code",
   "execution_count": 22,
   "metadata": {
    "collapsed": false
   },
   "outputs": [
    {
     "data": {
      "text/plain": [
       "array([[1, 1, 0, 0, 0, 1, 0, 0, 0, 0, 0, 0, 0, 0, 0, 0, 0, 0, 0, 0],\n",
       "       [1, 1, 1, 0, 0, 0, 0, 1, 1, 1, 1, 0, 0, 1, 0, 0, 1, 0, 1, 0],\n",
       "       [0, 0, 0, 0, 0, 0, 0, 0, 0, 0, 0, 0, 0, 0, 0, 0, 0, 0, 0, 0],\n",
       "       [1, 1, 0, 0, 0, 0, 0, 0, 0, 1, 0, 0, 0, 0, 0, 0, 0, 0, 0, 0],\n",
       "       [0, 1, 0, 1, 0, 0, 0, 0, 0, 0, 0, 1, 1, 0, 1, 0, 1, 0, 0, 0]])"
      ]
     },
     "execution_count": 22,
     "metadata": {},
     "output_type": "execute_result"
    }
   ],
   "source": [
    "word_vectors[:5, :20]"
   ]
  },
  {
   "cell_type": "code",
   "execution_count": 23,
   "metadata": {
    "collapsed": false
   },
   "outputs": [],
   "source": [
    "labels = train.label"
   ]
  },
  {
   "cell_type": "code",
   "execution_count": 24,
   "metadata": {
    "collapsed": true
   },
   "outputs": [],
   "source": [
    "Y = (labels=='sarcastic').astype(np.int_)"
   ]
  },
  {
   "cell_type": "code",
   "execution_count": 25,
   "metadata": {
    "collapsed": false
   },
   "outputs": [],
   "source": [
    "test_tweets = pd.DataFrame(test.tweet)\n",
    "test_word2vectors = np.zeros( (len(test_tweets),len(vocab)), dtype = np.int_)\n",
    "for i, (_, word) in enumerate(test_tweets.iterrows()):\n",
    "    test_word2vectors[i] = text_to_vector(word[0])"
   ]
  },
  {
   "cell_type": "code",
   "execution_count": 26,
   "metadata": {
    "collapsed": false
   },
   "outputs": [
    {
     "data": {
      "text/plain": [
       "array([0, 1, 0, ..., 0, 0, 0])"
      ]
     },
     "execution_count": 26,
     "metadata": {},
     "output_type": "execute_result"
    }
   ],
   "source": [
    "test_word2vectors[0]"
   ]
  },
  {
   "cell_type": "code",
   "execution_count": 27,
   "metadata": {
    "collapsed": true
   },
   "outputs": [],
   "source": [
    "#from sklearn.model_selection import train_test_split"
   ]
  },
  {
   "cell_type": "code",
   "execution_count": 28,
   "metadata": {
    "collapsed": true
   },
   "outputs": [],
   "source": [
    "#records = len(labels)\n",
    "#shuffle = np.arange(records)\n",
    "#np.random.shuffle(shuffle)"
   ]
  },
  {
   "cell_type": "code",
   "execution_count": 29,
   "metadata": {
    "collapsed": false
   },
   "outputs": [],
   "source": [
    "#print(len(shuffle),len(word_vectors))"
   ]
  },
  {
   "cell_type": "code",
   "execution_count": 30,
   "metadata": {
    "collapsed": false
   },
   "outputs": [],
   "source": [
    "#shuffle"
   ]
  },
  {
   "cell_type": "code",
   "execution_count": 31,
   "metadata": {
    "collapsed": true
   },
   "outputs": [],
   "source": [
    "#trainY = y[shuffle,:]"
   ]
  },
  {
   "cell_type": "code",
   "execution_count": 32,
   "metadata": {
    "collapsed": false
   },
   "outputs": [],
   "source": [
    "# X_train, X_test, y_train, y_test = train_test_split(word_vectors, y, test_size=0.10, random_state=42)"
   ]
  },
  {
   "cell_type": "code",
   "execution_count": 27,
   "metadata": {
    "collapsed": false
   },
   "outputs": [
    {
     "data": {
      "text/plain": [
       "1"
      ]
     },
     "execution_count": 27,
     "metadata": {},
     "output_type": "execute_result"
    }
   ],
   "source": [
    "Y[0]"
   ]
  },
  {
   "cell_type": "markdown",
   "metadata": {},
   "source": [
    "## BUILD MODEL"
   ]
  },
  {
   "cell_type": "code",
   "execution_count": 34,
   "metadata": {
    "collapsed": false
   },
   "outputs": [],
   "source": [
    "from sklearn.linear_model import LogisticRegression\n",
    "from sklearn.neighbors import KNeighborsClassifier\n",
    "from sklearn.naive_bayes import GaussianNB\n",
    "from sklearn.tree import DecisionTreeClassifier\n",
    "from sklearn.ensemble import RandomForestClassifier\n"
   ]
  },
  {
   "cell_type": "code",
   "execution_count": 28,
   "metadata": {
    "collapsed": true
   },
   "outputs": [],
   "source": [
    "from sklearn.dummy import DummyClassifier"
   ]
  },
  {
   "cell_type": "code",
   "execution_count": 29,
   "metadata": {
    "collapsed": false
   },
   "outputs": [],
   "source": [
    "from sklearn.model_selection import train_test_split, cross_val_score\n",
    "from sklearn.model_selection import KFold, learning_curve\n",
    "from sklearn.metrics import f1_score"
   ]
  },
  {
   "cell_type": "code",
   "execution_count": 30,
   "metadata": {
    "collapsed": true
   },
   "outputs": [],
   "source": [
    "import warnings\n",
    "warnings.filterwarnings('ignore')"
   ]
  },
  {
   "cell_type": "code",
   "execution_count": 51,
   "metadata": {
    "collapsed": true
   },
   "outputs": [],
   "source": [
    "from sklearn import svm"
   ]
  },
  {
   "cell_type": "code",
   "execution_count": 52,
   "metadata": {
    "collapsed": true
   },
   "outputs": [],
   "source": [
    "clf = svm.SVC()"
   ]
  },
  {
   "cell_type": "code",
   "execution_count": 53,
   "metadata": {
    "collapsed": false
   },
   "outputs": [
    {
     "ename": "MemoryError",
     "evalue": "",
     "output_type": "error",
     "traceback": [
      "\u001b[0;31m---------------------------------------------------------------------------\u001b[0m",
      "\u001b[0;31mMemoryError\u001b[0m                               Traceback (most recent call last)",
      "\u001b[0;32m<ipython-input-53-f20dbad85757>\u001b[0m in \u001b[0;36m<module>\u001b[0;34m()\u001b[0m\n\u001b[0;32m----> 1\u001b[0;31m \u001b[0mclf\u001b[0m\u001b[1;33m.\u001b[0m\u001b[0mfit\u001b[0m\u001b[1;33m(\u001b[0m\u001b[0mword_vectors\u001b[0m\u001b[1;33m,\u001b[0m \u001b[0mY\u001b[0m\u001b[1;33m)\u001b[0m\u001b[1;33m\u001b[0m\u001b[0m\n\u001b[0m",
      "\u001b[0;32mC:\\Users\\GUS9KOR\\AppData\\Local\\Continuum\\Anaconda3\\lib\\site-packages\\sklearn\\svm\\base.py\u001b[0m in \u001b[0;36mfit\u001b[0;34m(self, X, y, sample_weight)\u001b[0m\n\u001b[1;32m    149\u001b[0m         \u001b[0mself\u001b[0m\u001b[1;33m.\u001b[0m\u001b[0m_sparse\u001b[0m \u001b[1;33m=\u001b[0m \u001b[0msparse\u001b[0m \u001b[1;32mand\u001b[0m \u001b[1;32mnot\u001b[0m \u001b[0mcallable\u001b[0m\u001b[1;33m(\u001b[0m\u001b[0mself\u001b[0m\u001b[1;33m.\u001b[0m\u001b[0mkernel\u001b[0m\u001b[1;33m)\u001b[0m\u001b[1;33m\u001b[0m\u001b[0m\n\u001b[1;32m    150\u001b[0m \u001b[1;33m\u001b[0m\u001b[0m\n\u001b[0;32m--> 151\u001b[0;31m         \u001b[0mX\u001b[0m\u001b[1;33m,\u001b[0m \u001b[0my\u001b[0m \u001b[1;33m=\u001b[0m \u001b[0mcheck_X_y\u001b[0m\u001b[1;33m(\u001b[0m\u001b[0mX\u001b[0m\u001b[1;33m,\u001b[0m \u001b[0my\u001b[0m\u001b[1;33m,\u001b[0m \u001b[0mdtype\u001b[0m\u001b[1;33m=\u001b[0m\u001b[0mnp\u001b[0m\u001b[1;33m.\u001b[0m\u001b[0mfloat64\u001b[0m\u001b[1;33m,\u001b[0m \u001b[0morder\u001b[0m\u001b[1;33m=\u001b[0m\u001b[1;34m'C'\u001b[0m\u001b[1;33m,\u001b[0m \u001b[0maccept_sparse\u001b[0m\u001b[1;33m=\u001b[0m\u001b[1;34m'csr'\u001b[0m\u001b[1;33m)\u001b[0m\u001b[1;33m\u001b[0m\u001b[0m\n\u001b[0m\u001b[1;32m    152\u001b[0m         \u001b[0my\u001b[0m \u001b[1;33m=\u001b[0m \u001b[0mself\u001b[0m\u001b[1;33m.\u001b[0m\u001b[0m_validate_targets\u001b[0m\u001b[1;33m(\u001b[0m\u001b[0my\u001b[0m\u001b[1;33m)\u001b[0m\u001b[1;33m\u001b[0m\u001b[0m\n\u001b[1;32m    153\u001b[0m \u001b[1;33m\u001b[0m\u001b[0m\n",
      "\u001b[0;32mC:\\Users\\GUS9KOR\\AppData\\Local\\Continuum\\Anaconda3\\lib\\site-packages\\sklearn\\utils\\validation.py\u001b[0m in \u001b[0;36mcheck_X_y\u001b[0;34m(X, y, accept_sparse, dtype, order, copy, force_all_finite, ensure_2d, allow_nd, multi_output, ensure_min_samples, ensure_min_features, y_numeric, warn_on_dtype, estimator)\u001b[0m\n\u001b[1;32m    519\u001b[0m     X = check_array(X, accept_sparse, dtype, order, copy, force_all_finite,\n\u001b[1;32m    520\u001b[0m                     \u001b[0mensure_2d\u001b[0m\u001b[1;33m,\u001b[0m \u001b[0mallow_nd\u001b[0m\u001b[1;33m,\u001b[0m \u001b[0mensure_min_samples\u001b[0m\u001b[1;33m,\u001b[0m\u001b[1;33m\u001b[0m\u001b[0m\n\u001b[0;32m--> 521\u001b[0;31m                     ensure_min_features, warn_on_dtype, estimator)\n\u001b[0m\u001b[1;32m    522\u001b[0m     \u001b[1;32mif\u001b[0m \u001b[0mmulti_output\u001b[0m\u001b[1;33m:\u001b[0m\u001b[1;33m\u001b[0m\u001b[0m\n\u001b[1;32m    523\u001b[0m         y = check_array(y, 'csr', force_all_finite=True, ensure_2d=False,\n",
      "\u001b[0;32mC:\\Users\\GUS9KOR\\AppData\\Local\\Continuum\\Anaconda3\\lib\\site-packages\\sklearn\\utils\\validation.py\u001b[0m in \u001b[0;36mcheck_array\u001b[0;34m(array, accept_sparse, dtype, order, copy, force_all_finite, ensure_2d, allow_nd, ensure_min_samples, ensure_min_features, warn_on_dtype, estimator)\u001b[0m\n\u001b[1;32m    380\u001b[0m                                       force_all_finite)\n\u001b[1;32m    381\u001b[0m     \u001b[1;32melse\u001b[0m\u001b[1;33m:\u001b[0m\u001b[1;33m\u001b[0m\u001b[0m\n\u001b[0;32m--> 382\u001b[0;31m         \u001b[0marray\u001b[0m \u001b[1;33m=\u001b[0m \u001b[0mnp\u001b[0m\u001b[1;33m.\u001b[0m\u001b[0marray\u001b[0m\u001b[1;33m(\u001b[0m\u001b[0marray\u001b[0m\u001b[1;33m,\u001b[0m \u001b[0mdtype\u001b[0m\u001b[1;33m=\u001b[0m\u001b[0mdtype\u001b[0m\u001b[1;33m,\u001b[0m \u001b[0morder\u001b[0m\u001b[1;33m=\u001b[0m\u001b[0morder\u001b[0m\u001b[1;33m,\u001b[0m \u001b[0mcopy\u001b[0m\u001b[1;33m=\u001b[0m\u001b[0mcopy\u001b[0m\u001b[1;33m)\u001b[0m\u001b[1;33m\u001b[0m\u001b[0m\n\u001b[0m\u001b[1;32m    383\u001b[0m \u001b[1;33m\u001b[0m\u001b[0m\n\u001b[1;32m    384\u001b[0m         \u001b[1;32mif\u001b[0m \u001b[0mensure_2d\u001b[0m\u001b[1;33m:\u001b[0m\u001b[1;33m\u001b[0m\u001b[0m\n",
      "\u001b[0;31mMemoryError\u001b[0m: "
     ]
    }
   ],
   "source": [
    "clf.fit(word_vectors, Y)"
   ]
  },
  {
   "cell_type": "code",
   "execution_count": null,
   "metadata": {
    "collapsed": true
   },
   "outputs": [],
   "source": [
    "clf.score(test_word_vectors, y_test) "
   ]
  },
  {
   "cell_type": "code",
   "execution_count": 40,
   "metadata": {
    "collapsed": false
   },
   "outputs": [],
   "source": [
    "Yac_test = clf.predict(test_word2vectors)"
   ]
  },
  {
   "cell_type": "code",
   "execution_count": 41,
   "metadata": {
    "collapsed": false
   },
   "outputs": [
    {
     "data": {
      "text/plain": [
       "array([0, 1, 1, ..., 1, 1, 1])"
      ]
     },
     "execution_count": 41,
     "metadata": {},
     "output_type": "execute_result"
    }
   ],
   "source": [
    "Yac_test"
   ]
  },
  {
   "cell_type": "code",
   "execution_count": 42,
   "metadata": {
    "collapsed": false
   },
   "outputs": [],
   "source": [
    "pred = []"
   ]
  },
  {
   "cell_type": "code",
   "execution_count": 43,
   "metadata": {
    "collapsed": false
   },
   "outputs": [],
   "source": [
    "for i in range(len(Yac_test)):\n",
    "    if(Yac_test[i]>0.5):\n",
    "        pred.append('sarcastic')\n",
    "    else:\n",
    "        pred.append('non-sarcastic')"
   ]
  },
  {
   "cell_type": "code",
   "execution_count": 44,
   "metadata": {
    "collapsed": false
   },
   "outputs": [
    {
     "data": {
      "text/plain": [
       "39392"
      ]
     },
     "execution_count": 44,
     "metadata": {},
     "output_type": "execute_result"
    }
   ],
   "source": [
    "len(pred)"
   ]
  },
  {
   "cell_type": "code",
   "execution_count": 45,
   "metadata": {
    "collapsed": false
   },
   "outputs": [],
   "source": [
    "pred = pd.DataFrame(pred)\n",
    "pred['ID']=test.ID"
   ]
  },
  {
   "cell_type": "code",
   "execution_count": 46,
   "metadata": {
    "collapsed": false
   },
   "outputs": [],
   "source": [
    "cols=[1,0]\n",
    "pred.columns = ['ID','label']"
   ]
  },
  {
   "cell_type": "code",
   "execution_count": 47,
   "metadata": {
    "collapsed": false
   },
   "outputs": [],
   "source": [
    "pred = pred[cols]"
   ]
  },
  {
   "cell_type": "code",
   "execution_count": 48,
   "metadata": {
    "collapsed": false
   },
   "outputs": [],
   "source": [
    "pred.columns = ['ID','label']"
   ]
  },
  {
   "cell_type": "code",
   "execution_count": 49,
   "metadata": {
    "collapsed": false,
    "scrolled": true
   },
   "outputs": [
    {
     "data": {
      "text/html": [
       "<div>\n",
       "<table border=\"1\" class=\"dataframe\">\n",
       "  <thead>\n",
       "    <tr style=\"text-align: right;\">\n",
       "      <th></th>\n",
       "      <th>ID</th>\n",
       "      <th>label</th>\n",
       "    </tr>\n",
       "  </thead>\n",
       "  <tbody>\n",
       "    <tr>\n",
       "      <th>0</th>\n",
       "      <td>T000543656</td>\n",
       "      <td>non-sarcastic</td>\n",
       "    </tr>\n",
       "    <tr>\n",
       "      <th>1</th>\n",
       "      <td>T000543657</td>\n",
       "      <td>sarcastic</td>\n",
       "    </tr>\n",
       "    <tr>\n",
       "      <th>2</th>\n",
       "      <td>T000543658</td>\n",
       "      <td>sarcastic</td>\n",
       "    </tr>\n",
       "    <tr>\n",
       "      <th>3</th>\n",
       "      <td>T000543659</td>\n",
       "      <td>non-sarcastic</td>\n",
       "    </tr>\n",
       "    <tr>\n",
       "      <th>4</th>\n",
       "      <td>T000543660</td>\n",
       "      <td>sarcastic</td>\n",
       "    </tr>\n",
       "    <tr>\n",
       "      <th>5</th>\n",
       "      <td>T000543661</td>\n",
       "      <td>sarcastic</td>\n",
       "    </tr>\n",
       "    <tr>\n",
       "      <th>6</th>\n",
       "      <td>T000543662</td>\n",
       "      <td>sarcastic</td>\n",
       "    </tr>\n",
       "    <tr>\n",
       "      <th>7</th>\n",
       "      <td>T000543663</td>\n",
       "      <td>sarcastic</td>\n",
       "    </tr>\n",
       "    <tr>\n",
       "      <th>8</th>\n",
       "      <td>T000543664</td>\n",
       "      <td>sarcastic</td>\n",
       "    </tr>\n",
       "    <tr>\n",
       "      <th>9</th>\n",
       "      <td>T000543665</td>\n",
       "      <td>sarcastic</td>\n",
       "    </tr>\n",
       "    <tr>\n",
       "      <th>10</th>\n",
       "      <td>T000543666</td>\n",
       "      <td>sarcastic</td>\n",
       "    </tr>\n",
       "    <tr>\n",
       "      <th>11</th>\n",
       "      <td>T000543667</td>\n",
       "      <td>non-sarcastic</td>\n",
       "    </tr>\n",
       "    <tr>\n",
       "      <th>12</th>\n",
       "      <td>T000543668</td>\n",
       "      <td>non-sarcastic</td>\n",
       "    </tr>\n",
       "    <tr>\n",
       "      <th>13</th>\n",
       "      <td>T000543669</td>\n",
       "      <td>sarcastic</td>\n",
       "    </tr>\n",
       "    <tr>\n",
       "      <th>14</th>\n",
       "      <td>T000543670</td>\n",
       "      <td>non-sarcastic</td>\n",
       "    </tr>\n",
       "    <tr>\n",
       "      <th>15</th>\n",
       "      <td>T000543671</td>\n",
       "      <td>non-sarcastic</td>\n",
       "    </tr>\n",
       "    <tr>\n",
       "      <th>16</th>\n",
       "      <td>T000543672</td>\n",
       "      <td>non-sarcastic</td>\n",
       "    </tr>\n",
       "    <tr>\n",
       "      <th>17</th>\n",
       "      <td>T000543673</td>\n",
       "      <td>non-sarcastic</td>\n",
       "    </tr>\n",
       "    <tr>\n",
       "      <th>18</th>\n",
       "      <td>T000543674</td>\n",
       "      <td>non-sarcastic</td>\n",
       "    </tr>\n",
       "    <tr>\n",
       "      <th>19</th>\n",
       "      <td>T000543675</td>\n",
       "      <td>sarcastic</td>\n",
       "    </tr>\n",
       "    <tr>\n",
       "      <th>20</th>\n",
       "      <td>T000543676</td>\n",
       "      <td>non-sarcastic</td>\n",
       "    </tr>\n",
       "    <tr>\n",
       "      <th>21</th>\n",
       "      <td>T000543677</td>\n",
       "      <td>sarcastic</td>\n",
       "    </tr>\n",
       "    <tr>\n",
       "      <th>22</th>\n",
       "      <td>T000543678</td>\n",
       "      <td>sarcastic</td>\n",
       "    </tr>\n",
       "    <tr>\n",
       "      <th>23</th>\n",
       "      <td>T000543679</td>\n",
       "      <td>non-sarcastic</td>\n",
       "    </tr>\n",
       "    <tr>\n",
       "      <th>24</th>\n",
       "      <td>T000543680</td>\n",
       "      <td>non-sarcastic</td>\n",
       "    </tr>\n",
       "    <tr>\n",
       "      <th>25</th>\n",
       "      <td>T000543681</td>\n",
       "      <td>sarcastic</td>\n",
       "    </tr>\n",
       "    <tr>\n",
       "      <th>26</th>\n",
       "      <td>T000543682</td>\n",
       "      <td>sarcastic</td>\n",
       "    </tr>\n",
       "    <tr>\n",
       "      <th>27</th>\n",
       "      <td>T000543683</td>\n",
       "      <td>sarcastic</td>\n",
       "    </tr>\n",
       "    <tr>\n",
       "      <th>28</th>\n",
       "      <td>T000543684</td>\n",
       "      <td>sarcastic</td>\n",
       "    </tr>\n",
       "    <tr>\n",
       "      <th>29</th>\n",
       "      <td>T000543685</td>\n",
       "      <td>non-sarcastic</td>\n",
       "    </tr>\n",
       "    <tr>\n",
       "      <th>...</th>\n",
       "      <td>...</td>\n",
       "      <td>...</td>\n",
       "    </tr>\n",
       "    <tr>\n",
       "      <th>39362</th>\n",
       "      <td>T000583018</td>\n",
       "      <td>non-sarcastic</td>\n",
       "    </tr>\n",
       "    <tr>\n",
       "      <th>39363</th>\n",
       "      <td>T000583019</td>\n",
       "      <td>sarcastic</td>\n",
       "    </tr>\n",
       "    <tr>\n",
       "      <th>39364</th>\n",
       "      <td>T000583020</td>\n",
       "      <td>non-sarcastic</td>\n",
       "    </tr>\n",
       "    <tr>\n",
       "      <th>39365</th>\n",
       "      <td>T000583021</td>\n",
       "      <td>non-sarcastic</td>\n",
       "    </tr>\n",
       "    <tr>\n",
       "      <th>39366</th>\n",
       "      <td>T000583022</td>\n",
       "      <td>sarcastic</td>\n",
       "    </tr>\n",
       "    <tr>\n",
       "      <th>39367</th>\n",
       "      <td>T000583023</td>\n",
       "      <td>sarcastic</td>\n",
       "    </tr>\n",
       "    <tr>\n",
       "      <th>39368</th>\n",
       "      <td>T000583024</td>\n",
       "      <td>sarcastic</td>\n",
       "    </tr>\n",
       "    <tr>\n",
       "      <th>39369</th>\n",
       "      <td>T000583025</td>\n",
       "      <td>non-sarcastic</td>\n",
       "    </tr>\n",
       "    <tr>\n",
       "      <th>39370</th>\n",
       "      <td>T000583026</td>\n",
       "      <td>sarcastic</td>\n",
       "    </tr>\n",
       "    <tr>\n",
       "      <th>39371</th>\n",
       "      <td>T000583027</td>\n",
       "      <td>sarcastic</td>\n",
       "    </tr>\n",
       "    <tr>\n",
       "      <th>39372</th>\n",
       "      <td>T000583028</td>\n",
       "      <td>sarcastic</td>\n",
       "    </tr>\n",
       "    <tr>\n",
       "      <th>39373</th>\n",
       "      <td>T000583029</td>\n",
       "      <td>sarcastic</td>\n",
       "    </tr>\n",
       "    <tr>\n",
       "      <th>39374</th>\n",
       "      <td>T000583030</td>\n",
       "      <td>non-sarcastic</td>\n",
       "    </tr>\n",
       "    <tr>\n",
       "      <th>39375</th>\n",
       "      <td>T000583031</td>\n",
       "      <td>non-sarcastic</td>\n",
       "    </tr>\n",
       "    <tr>\n",
       "      <th>39376</th>\n",
       "      <td>T000583032</td>\n",
       "      <td>sarcastic</td>\n",
       "    </tr>\n",
       "    <tr>\n",
       "      <th>39377</th>\n",
       "      <td>T000583033</td>\n",
       "      <td>non-sarcastic</td>\n",
       "    </tr>\n",
       "    <tr>\n",
       "      <th>39378</th>\n",
       "      <td>T000583034</td>\n",
       "      <td>sarcastic</td>\n",
       "    </tr>\n",
       "    <tr>\n",
       "      <th>39379</th>\n",
       "      <td>T000583035</td>\n",
       "      <td>sarcastic</td>\n",
       "    </tr>\n",
       "    <tr>\n",
       "      <th>39380</th>\n",
       "      <td>T000583036</td>\n",
       "      <td>sarcastic</td>\n",
       "    </tr>\n",
       "    <tr>\n",
       "      <th>39381</th>\n",
       "      <td>T000583037</td>\n",
       "      <td>sarcastic</td>\n",
       "    </tr>\n",
       "    <tr>\n",
       "      <th>39382</th>\n",
       "      <td>T000583038</td>\n",
       "      <td>sarcastic</td>\n",
       "    </tr>\n",
       "    <tr>\n",
       "      <th>39383</th>\n",
       "      <td>T000583039</td>\n",
       "      <td>sarcastic</td>\n",
       "    </tr>\n",
       "    <tr>\n",
       "      <th>39384</th>\n",
       "      <td>T000583040</td>\n",
       "      <td>non-sarcastic</td>\n",
       "    </tr>\n",
       "    <tr>\n",
       "      <th>39385</th>\n",
       "      <td>T000583041</td>\n",
       "      <td>non-sarcastic</td>\n",
       "    </tr>\n",
       "    <tr>\n",
       "      <th>39386</th>\n",
       "      <td>T000583042</td>\n",
       "      <td>sarcastic</td>\n",
       "    </tr>\n",
       "    <tr>\n",
       "      <th>39387</th>\n",
       "      <td>T000583043</td>\n",
       "      <td>sarcastic</td>\n",
       "    </tr>\n",
       "    <tr>\n",
       "      <th>39388</th>\n",
       "      <td>T000583044</td>\n",
       "      <td>non-sarcastic</td>\n",
       "    </tr>\n",
       "    <tr>\n",
       "      <th>39389</th>\n",
       "      <td>T000583045</td>\n",
       "      <td>sarcastic</td>\n",
       "    </tr>\n",
       "    <tr>\n",
       "      <th>39390</th>\n",
       "      <td>T000583046</td>\n",
       "      <td>sarcastic</td>\n",
       "    </tr>\n",
       "    <tr>\n",
       "      <th>39391</th>\n",
       "      <td>T000583047</td>\n",
       "      <td>sarcastic</td>\n",
       "    </tr>\n",
       "  </tbody>\n",
       "</table>\n",
       "<p>39392 rows × 2 columns</p>\n",
       "</div>"
      ],
      "text/plain": [
       "               ID          label\n",
       "0      T000543656  non-sarcastic\n",
       "1      T000543657      sarcastic\n",
       "2      T000543658      sarcastic\n",
       "3      T000543659  non-sarcastic\n",
       "4      T000543660      sarcastic\n",
       "5      T000543661      sarcastic\n",
       "6      T000543662      sarcastic\n",
       "7      T000543663      sarcastic\n",
       "8      T000543664      sarcastic\n",
       "9      T000543665      sarcastic\n",
       "10     T000543666      sarcastic\n",
       "11     T000543667  non-sarcastic\n",
       "12     T000543668  non-sarcastic\n",
       "13     T000543669      sarcastic\n",
       "14     T000543670  non-sarcastic\n",
       "15     T000543671  non-sarcastic\n",
       "16     T000543672  non-sarcastic\n",
       "17     T000543673  non-sarcastic\n",
       "18     T000543674  non-sarcastic\n",
       "19     T000543675      sarcastic\n",
       "20     T000543676  non-sarcastic\n",
       "21     T000543677      sarcastic\n",
       "22     T000543678      sarcastic\n",
       "23     T000543679  non-sarcastic\n",
       "24     T000543680  non-sarcastic\n",
       "25     T000543681      sarcastic\n",
       "26     T000543682      sarcastic\n",
       "27     T000543683      sarcastic\n",
       "28     T000543684      sarcastic\n",
       "29     T000543685  non-sarcastic\n",
       "...           ...            ...\n",
       "39362  T000583018  non-sarcastic\n",
       "39363  T000583019      sarcastic\n",
       "39364  T000583020  non-sarcastic\n",
       "39365  T000583021  non-sarcastic\n",
       "39366  T000583022      sarcastic\n",
       "39367  T000583023      sarcastic\n",
       "39368  T000583024      sarcastic\n",
       "39369  T000583025  non-sarcastic\n",
       "39370  T000583026      sarcastic\n",
       "39371  T000583027      sarcastic\n",
       "39372  T000583028      sarcastic\n",
       "39373  T000583029      sarcastic\n",
       "39374  T000583030  non-sarcastic\n",
       "39375  T000583031  non-sarcastic\n",
       "39376  T000583032      sarcastic\n",
       "39377  T000583033  non-sarcastic\n",
       "39378  T000583034      sarcastic\n",
       "39379  T000583035      sarcastic\n",
       "39380  T000583036      sarcastic\n",
       "39381  T000583037      sarcastic\n",
       "39382  T000583038      sarcastic\n",
       "39383  T000583039      sarcastic\n",
       "39384  T000583040  non-sarcastic\n",
       "39385  T000583041  non-sarcastic\n",
       "39386  T000583042      sarcastic\n",
       "39387  T000583043      sarcastic\n",
       "39388  T000583044  non-sarcastic\n",
       "39389  T000583045      sarcastic\n",
       "39390  T000583046      sarcastic\n",
       "39391  T000583047      sarcastic\n",
       "\n",
       "[39392 rows x 2 columns]"
      ]
     },
     "execution_count": 49,
     "metadata": {},
     "output_type": "execute_result"
    }
   ],
   "source": [
    "pred"
   ]
  },
  {
   "cell_type": "code",
   "execution_count": 50,
   "metadata": {
    "collapsed": false
   },
   "outputs": [],
   "source": [
    "pred.to_csv('Random.csv',index=False)"
   ]
  }
 ],
 "metadata": {
  "anaconda-cloud": {},
  "kernelspec": {
   "display_name": "Python [default]",
   "language": "python",
   "name": "python3"
  },
  "language_info": {
   "codemirror_mode": {
    "name": "ipython",
    "version": 3
   },
   "file_extension": ".py",
   "mimetype": "text/x-python",
   "name": "python",
   "nbconvert_exporter": "python",
   "pygments_lexer": "ipython3",
   "version": "3.5.2"
  }
 },
 "nbformat": 4,
 "nbformat_minor": 1
}
